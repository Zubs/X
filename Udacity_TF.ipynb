{
  "nbformat": 4,
  "nbformat_minor": 0,
  "metadata": {
    "colab": {
      "name": "Udacity TF.ipynb",
      "provenance": [],
      "include_colab_link": true
    },
    "kernelspec": {
      "name": "python3",
      "display_name": "Python 3"
    }
  },
  "cells": [
    {
      "cell_type": "markdown",
      "metadata": {
        "id": "view-in-github",
        "colab_type": "text"
      },
      "source": [
        "<a href=\"https://colab.research.google.com/github/Zubs/X/blob/master/Udacity_TF.ipynb\" target=\"_parent\"><img src=\"https://colab.research.google.com/assets/colab-badge.svg\" alt=\"Open In Colab\"/></a>"
      ]
    },
    {
      "cell_type": "code",
      "metadata": {
        "id": "TVpwRzUGSjqE",
        "colab_type": "code",
        "colab": {}
      },
      "source": [
        "import tensorflow as tf\n",
        "tf.logging.set_verbosity(tf.logging.ERROR)\n",
        "\n",
        "import numpy as np\n",
        "from tensorflow import keras"
      ],
      "execution_count": 0,
      "outputs": []
    },
    {
      "cell_type": "code",
      "metadata": {
        "id": "EuxlfuKHSzQS",
        "colab_type": "code",
        "colab": {}
      },
      "source": [
        "from sklearn.datasets import load_boston"
      ],
      "execution_count": 0,
      "outputs": []
    },
    {
      "cell_type": "code",
      "metadata": {
        "id": "fBhboN6QTJbT",
        "colab_type": "code",
        "colab": {}
      },
      "source": [
        "data = load_boston().data"
      ],
      "execution_count": 0,
      "outputs": []
    },
    {
      "cell_type": "code",
      "metadata": {
        "id": "hUT9Sn3HTR9D",
        "colab_type": "code",
        "colab": {}
      },
      "source": [
        "target = load_boston().target"
      ],
      "execution_count": 0,
      "outputs": []
    },
    {
      "cell_type": "code",
      "metadata": {
        "id": "SKOIVaYAT5Pm",
        "colab_type": "code",
        "outputId": "04618ea2-1954-4195-fac6-11b8bdf17fc2",
        "colab": {
          "base_uri": "https://localhost:8080/",
          "height": 52
        }
      },
      "source": [
        "print(target.shape)\n",
        "print(data.shape)"
      ],
      "execution_count": 114,
      "outputs": [
        {
          "output_type": "stream",
          "text": [
            "(506,)\n",
            "(506, 13)\n"
          ],
          "name": "stdout"
        }
      ]
    },
    {
      "cell_type": "code",
      "metadata": {
        "id": "Oiavugbvmy73",
        "colab_type": "code",
        "colab": {
          "base_uri": "https://localhost:8080/",
          "height": 34
        },
        "outputId": "d38cb37a-7265-4d68-e948-2f7ae4ecd5b2"
      },
      "source": [
        "import pandas as pd\n",
        "target = pd.DataFrame(target)\n",
        "target['ones'] = 1\n",
        "target = np.array(target)\n",
        "target.shape"
      ],
      "execution_count": 115,
      "outputs": [
        {
          "output_type": "execute_result",
          "data": {
            "text/plain": [
              "(506, 2)"
            ]
          },
          "metadata": {
            "tags": []
          },
          "execution_count": 115
        }
      ]
    },
    {
      "cell_type": "code",
      "metadata": {
        "id": "S2-B6MYkUtrk",
        "colab_type": "code",
        "colab": {}
      },
      "source": [
        "step1 = keras.layers.Dense(units = 10, input_shape=[13])\n",
        "step2 = keras.layers.Dense(units = 8)\n",
        "step3 = keras.layers.Dense(units = 6)\n",
        "step4 = keras.layers.Dense(units = 4)\n",
        "step5 = keras.layers.Dense(units = 2)"
      ],
      "execution_count": 0,
      "outputs": []
    },
    {
      "cell_type": "code",
      "metadata": {
        "id": "p21fX_dPf1U_",
        "colab_type": "code",
        "colab": {}
      },
      "source": [
        "model = tf.keras.Sequential([step1, step2, step3, step4, step5])"
      ],
      "execution_count": 0,
      "outputs": []
    },
    {
      "cell_type": "code",
      "metadata": {
        "id": "bvDR5AhYgG2N",
        "colab_type": "code",
        "colab": {}
      },
      "source": [
        "model.compile(loss='mean_squared_error', optimizer=tf.keras.optimizers.Adam(0.1))"
      ],
      "execution_count": 0,
      "outputs": []
    },
    {
      "cell_type": "code",
      "metadata": {
        "id": "4vuEHY3OgJ0Z",
        "colab_type": "code",
        "colab": {
          "base_uri": "https://localhost:8080/",
          "height": 105
        },
        "outputId": "8d9ea59a-a90f-441b-c48c-512a7d1184b0"
      },
      "source": [
        "print(\"This should take a while.......\")\n",
        "model.fit(data, target, epochs=500, verbose=False)\n",
        "print(\"Almost done, \\n \\nallmoooost\")\n",
        "print(\"Finished training the model\")"
      ],
      "execution_count": 119,
      "outputs": [
        {
          "output_type": "stream",
          "text": [
            "This should take a while.......\n",
            "Almost done, \n",
            " \n",
            "allmoooost\n",
            "Finished training the model\n"
          ],
          "name": "stdout"
        }
      ]
    },
    {
      "cell_type": "code",
      "metadata": {
        "id": "vd4rVF13m7vk",
        "colab_type": "code",
        "colab": {}
      },
      "source": [
        "test = np.array([0.00632,18.0,2.31,0.0,0.538,6.575,65.2,4.0900,1.0,296.0,15.3,396.90,4.98], dtype=float)\n",
        "test = test.reshape(1, 13)"
      ],
      "execution_count": 0,
      "outputs": []
    },
    {
      "cell_type": "code",
      "metadata": {
        "id": "TynvamfQrsHf",
        "colab_type": "code",
        "colab": {}
      },
      "source": [
        "test_result = model.predict(test)"
      ],
      "execution_count": 0,
      "outputs": []
    },
    {
      "cell_type": "code",
      "metadata": {
        "id": "miTFw0FZrv4I",
        "colab_type": "code",
        "colab": {
          "base_uri": "https://localhost:8080/",
          "height": 34
        },
        "outputId": "02e42338-4019-4349-bc1c-8fbf1ddc8c8d"
      },
      "source": [
        "print(test_result)"
      ],
      "execution_count": 122,
      "outputs": [
        {
          "output_type": "stream",
          "text": [
            "[[30.301813   1.0310118]]\n"
          ],
          "name": "stdout"
        }
      ]
    },
    {
      "cell_type": "code",
      "metadata": {
        "id": "BeuNw-cgr0RS",
        "colab_type": "code",
        "colab": {}
      },
      "source": [
        ""
      ],
      "execution_count": 0,
      "outputs": []
    }
  ]
}